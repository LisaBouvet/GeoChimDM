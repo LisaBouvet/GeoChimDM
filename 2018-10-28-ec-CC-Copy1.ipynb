{
 "cells": [
  {
   "cell_type": "markdown",
   "metadata": {},
   "source": [
    "# Pollution azotée\n",
    "\n",
    "\n",
    "* CC de géochimie environnementale, M1 ACSC et HR, 2018-2019\n",
    "* Soumis aux étudiants le 29/10/2018\n",
    "\n",
    "**Il est conseillé de faire une copie de ce notebook avant toute modification. D'une façon générale, des sauvegardes régulières au cours du travail sont souhaitables.**\n",
    "\n",
    "Ce notebook doit être complété autant que possible, puis :\n",
    "\n",
    "* renommé pour éviter les erreurs\n",
    "* renvoyé par e-mail à Emmanuel.Cosme@univ-grenoble-alpes.fr avant le **23 novembre 2018**\n",
    "\n",
    "Le travail peut-être accompli individuellement ou par groupes de 4 au maximum. Dans le cas d'un travail en groupe, il est possible que l'un ou plusieurs des participants soit interrogés \"par surprise\" sur ce travail.\n",
    "\n",
    "Pour toute question de compréhension du problème, venez me voir en séance ou contactez-moi par e-mail.\n",
    "\n",
    "## Participants à ce notebook :\n",
    "\n",
    "* Lisa Bouvet\n",
    "* \n",
    "* \n",
    "* \n",
    "\n",
    "## Introduction\n",
    "\n",
    "Les combustions anthropiques urbaines émettent des oxydes d'azote ($NOx$) en grande quantité. Lors de votre première mission (TP 1-4), vous avez développé un outil permettant aux responsables politiques d'évaluer quelle fraction de ce qui est émis par l'industrie française est transporté par le vent vers l'Allemagne. Nous pouvons alors adopter des mesures politiques quantifiables pour conserver nos bonnes relations diplomatiques.\n",
    "\n",
    "Mais aujourd'hui, ce sont les Français qui grognent. Puisqu'on leur a dit que les $NOx$ et son principal produit d'oxydation, le $HNO_3$, ne vont pas trop en Allemagne, c'est donc qu'ils restent en France, provoquant des problèmes de santé et de pollution des sols par leur dépôt.\n",
    "\n",
    "Vous avez rempli votre première mission avec brio, aussi le ministère souhaite que vous vous remettiez à la tâche pour reprendre l'étude et quantifier plus précisément le cycle des $NOx$ et $HNO_3$ dans l'air que respirent nos compatriotes.\n",
    "\n",
    "Vous voici donc missionnés pour développer un modèle numérique permettant de représenter le cycle de ces composés, en particulier dans la dimension verticale, entre la couche limite atmosphérique (CLA, d'une épaisseur de 1000 m environ) où l'on respire, et la troposphère libre (TL) où la circulation de grande échelle plus intense a tendance à exporter les composés chimiques (vers l'Allemagne, peut-être). Le problème n'est pas simple car beaucoup de paramètres (temps de vie chimiques, échanges entre CLA et TL, émissions) dépendent de l'heure. Vous faites le choix d'un modèle à 2 boîtes (CLA et TL) et vous vous préparez à résoudre le problème progressivement, en introduisant les difficultés par étapes.\n",
    "\n",
    "\n"
   ]
  },
  {
   "cell_type": "markdown",
   "metadata": {},
   "source": [
    "## Importation de modules utiles"
   ]
  },
  {
   "cell_type": "code",
   "execution_count": 1,
   "metadata": {},
   "outputs": [],
   "source": [
    "import numpy as np\n",
    "import matplotlib.pyplot as plt\n",
    "%matplotlib inline"
   ]
  },
  {
   "cell_type": "markdown",
   "metadata": {},
   "source": [
    "## 1. Prise en main : modélisation simplifiée\n",
    "On commence par développer un modèle sans tenir compte des variations temporelles. On prendra par exemple les valeurs suivantes :\n",
    "\n",
    "- Emission de $NOx$ : 40 T/jour\n",
    "- temps de vie chimique (le $NOx$ est oxydé en $HNO_3$) :\n",
    "    - $NOx$ dans la CLA : 5 h\n",
    "    - $NOx$ dans la TL : 5 j\n",
    "    - $HNO_3$ dans la CLA : 100 j\n",
    "    - $HNO_3$ dans la TL : 200 j\n",
    "- vitesse de dépôt sec au sol :\n",
    "    - $NOx$ : 0.2 cm/s\n",
    "    - $HNO_3$ : 1.5 cm/s\n",
    "- temps de vie lié au transport par le vent hors du système, **dans la TL seulement** :\n",
    "    - $NOx$ et $HNO3$ : 14 j\n",
    "- temps de vie lié au transport de la CLA vers la TL :\n",
    "    - $NOx$ et $HNO3$ : 3 j\n",
    "- temps de vie lié au transport de la TL vers la CLA :\n",
    "    - $NOx$ et $HNO3$ : 10 j\n",
    "    \n",
    "### Question :\n",
    "Dans des cellules ci-dessous, coder un modèle numérique permettant de calculer les évolutions temporelles des composés $NOx$ et $HNO_3$ dans les compartiments atmosphériques CLA et TL. En initialisant le système avec des masses de composés à 0, combien faut-il de jours (environ) pour atteindre un équilibre ? Tracer les évolutions temporelles des composés sur 4 jours lorsque cet équilibre est atteint.\n",
    "\n",
    "_L'intégration temporelle sera calculée avec un schéma de Runge-Kutta d'ordre 4. Le code sera aussi clair et compact que possible (donc, avec une fonction, comme en TP...). Il sera également commenté de manière à le rendre facilement lisible par un utilisateur extérieur (ou un professeur chargé d'évaluer le travail...)_"
   ]
  },
  {
   "cell_type": "code",
   "execution_count": 79,
   "metadata": {},
   "outputs": [],
   "source": [
    "# Parametres\n",
    "ino = 0    # indice $NOx$\n",
    "ihn = 1    # indice $HNO_3$\n",
    "jcl = 0    # indice CLA\n",
    "jtl = 1    # indice TL\n",
    "\n",
    "## Emissions\n",
    "Enox = 40. / 24     # emission T/h\n",
    "\n",
    "## Depots, avec une hauteur de CLA de 1000 m\n",
    "hcla = 1000.    # m\n",
    "vdep = np.zeros(2)\n",
    "vdep[ino] = 0.2*0.1/(3600.*hcla)   # en /h , vdep=D/hcla\n",
    "vdep[ihn] = 1.5*0.1/(3600.*hcla)   # en /h\n",
    "\n",
    "## Chimie\n",
    "kchim = np.zeros((2,2))\n",
    "kchim[ino, jcl] = 5      #en /h\n",
    "kchim[ino, jtl] = 5*24\n",
    "kchim[ihn, jcl] = 100*24\n",
    "kchim[ihn, jtl] = 200*24\n",
    "\n",
    "## Transport\n",
    "kexptl = 14*24    #en /h\n",
    "kcla2tl = 3*24\n",
    "ktl2cla = 10*24"
   ]
  },
  {
   "cell_type": "code",
   "execution_count": null,
   "metadata": {},
   "outputs": [],
   "source": []
  },
  {
   "cell_type": "code",
   "execution_count": 80,
   "metadata": {},
   "outputs": [],
   "source": [
    "# ???"
   ]
  },
  {
   "cell_type": "code",
   "execution_count": 3,
   "metadata": {},
   "outputs": [
    {
     "data": {
      "text/plain": [
       "<matplotlib.legend.Legend at 0x10afdf310>"
      ]
     },
     "execution_count": 3,
     "metadata": {},
     "output_type": "execute_result"
    },
    {
     "data": {
      "image/png": "[encoded data removed]",
      "text/plain": [
       "<matplotlib.figure.Figure at 0x1050eba90>"
      ]
     },
     "metadata": {},
     "output_type": "display_data"
    }
   ],
   "source": [
    "# Initialisation\n",
    "mass = np.zeros((2,2))\n",
    "dt = 1. # en h\n",
    "nt = 800  # nb pas de temps\n",
    "mass_series = np.zeros((2,2,nt+1))\n",
    "mass_series[:,:,0] = mass\n",
    "\n",
    "# Time integration\n",
    "for it in range(nt):\n",
    "    #BLABLABLA\n",
    "    mass_series[:,:,it+1] = mass\n",
    "\n",
    "# Plots\n",
    "plt.plot(mass_series[0,0,:], label='NOx, CLA')\n",
    "plt.plot(mass_series[0,1,:], label='NOx, TL')\n",
    "plt.plot(mass_series[1,0,:], label='HNO3, CLA')\n",
    "plt.plot(mass_series[1,1,:], label='HNO3, TL')\n",
    "plt.legend()"
   ]
  },
  {
   "cell_type": "code",
   "execution_count": 4,
   "metadata": {},
   "outputs": [],
   "source": [
    "# Plots sur les 4 derniers jours de la simulation\n",
    "ij4 = int(4*24/dt)    # nombre d'indices pour couvrir 4 jours\n"
   ]
  },
  {
   "cell_type": "markdown",
   "metadata": {},
   "source": [
    "## 2. Variations temporelles des différents paramètres\n",
    "\n",
    "Les résultats précédents ne vous satisfont pas car les niveaux de $HNO_3$ vous semblent bien plus élevés que dans la réalité. Votre expérience vous laissent penser qu'en tenant compte des variations temporelles des différents paramètres de façon réaliste, vous améliorerez sensiblement vos résultats. Les données que vous avez pour vous guider sont les suivantes :\n",
    "\n",
    "#### Emissions\n",
    "La quantité quotidienne totale est identique à précédemment, mais est à 0 la nuit, entre 20 h et 8 h. Le jour, elle est supposée constante entre 8 h et 20 h (dont de 80 T/j)\n",
    "\n",
    "#### Dépôts secs\n",
    "Les valeurs précédentes restent valables, constantes au cours de la journée.\n",
    "\n",
    "#### Chimie\n",
    "Le temps de vie des composés est environ 5 fois supérieur la nuit que le jour. Le jour, les temps de vie des $NOx$ sont d'environ 3 h et 3.5 jours dans la CLA et la TL, respectivement. Pour le $HNO_3$, on ne sait pas trop, on laisse comme c'est.\n",
    "\n",
    "#### Transport\n",
    "Pour le transport, c'est un peu plus compliqué car cela met en jeu la dynamique de la couche limite. Vous décidez de traiter cela dans une prochaine étape.\n",
    "\n",
    "### Question :\n",
    "Dans la cellule ci-dessous, coder des fonctions _emission_ et _chemistry_ qui prennent en variables d'entrée un temps (en heure), et calculent l'émission de $NOx$ et les constantes chimiques en sortie, respectivement. Tracer ces variables sur une journée."
   ]
  },
  {
   "cell_type": "code",
   "execution_count": 70,
   "metadata": {},
   "outputs": [],
   "source": [
    "def emission(time_in_hours):\n",
    "    blabla\n",
    "    return emis"
   ]
  },
  {
   "cell_type": "code",
   "execution_count": 5,
   "metadata": {},
   "outputs": [],
   "source": [
    "#Plot"
   ]
  },
  {
   "cell_type": "code",
   "execution_count": 72,
   "metadata": {},
   "outputs": [],
   "source": [
    "def chemistry(time_in_hours):\n",
    "    blabla\n",
    "    return kc"
   ]
  },
  {
   "cell_type": "code",
   "execution_count": 6,
   "metadata": {},
   "outputs": [],
   "source": [
    "#Plot"
   ]
  },
  {
   "cell_type": "markdown",
   "metadata": {},
   "source": [
    "## 3. Prise en compte des variations temporelles dans la simulation\n",
    "\n",
    "### Question :\n",
    "Reprendre le modèle codé précédemment en lui ajoutant les variations temporelles des émissions et des constantes chimiques. En initialisant le système avec des masses de composés à 0, combien faut-il de jours (environ) pour atteindre un équilibre ? Tracer les évolutions temporelles des composés sur 4 jours lorsque cet équilibre est atteint. Les niveaux de $HNO_3$ ont-ils été sensiblement réduits en tenant compte des variations temporelles des émissions et de la chimie ?"
   ]
  },
  {
   "cell_type": "code",
   "execution_count": 74,
   "metadata": {},
   "outputs": [],
   "source": [
    "# ???"
   ]
  },
  {
   "cell_type": "code",
   "execution_count": 7,
   "metadata": {},
   "outputs": [],
   "source": [
    "# Initialisation\n",
    "\n",
    "\n",
    "\n",
    "# Time integration\n",
    "\n",
    "# Plots\n"
   ]
  },
  {
   "cell_type": "markdown",
   "metadata": {},
   "source": [
    "### Réponse sur l'atteinte de l'équilibre :\n",
    "???"
   ]
  },
  {
   "cell_type": "code",
   "execution_count": 8,
   "metadata": {},
   "outputs": [],
   "source": [
    "# Plots sur les 4 derniers jours de la simulation\n"
   ]
  },
  {
   "cell_type": "markdown",
   "metadata": {},
   "source": [
    "### Réponse sur les niveaux de $HNO_3$:\n"
   ]
  },
  {
   "cell_type": "markdown",
   "metadata": {},
   "source": [
    "## 4. Le lessivage par la pluie\n",
    "\n",
    "Quelques discussions avec des collègues à la pause-café vous incite à penser qu'un processus important, puits de $HNO_3$, est le lessivage par la pluie. Effectivement, quand la pluie se forme dans le nuage ou quand elle tombe vers le sol, elle dissout une partie des acides présents dans l'atmosphère. Vous vous attelez donc à la tâche d'introduire ce processus dans votre modèle. Vous faites les hypothèses suivantes :\n",
    "\n",
    "- Chaque jour, il y a une chance sur 5 pour qu'il pleuve ;\n",
    "- le temps de vie du $HNO_3$ quand il pleut est de 30 minutes dans la TL, 1 h dans la CLA. En effet, dans la TL il y a du lessivage dans le nuage (_in-cloud scavenging_) et sous le nuage (_below-cloud scavenging_). Dans la CLA, il n'y a pas de _in-cloud_.\n",
    "\n",
    "### Question\n",
    "\n",
    "Coder une fonction qui détermine s'il pleut ou non de façon aléatoire, et sort un booléen valant True s'il pleut, et False s'il ne pleut pas. \n",
    "Reprendre alors le modèle complet en y introduisant le lessivage de $HNO_3$. Quelles concentrations de composés sont sensiblement affectées par ce nouveau processus ?\n",
    "\n",
    "_On fera attention dans le schéma de Runge-Kutta : s'il pleut à un temps donné, il faut en tenir compte à chaque appel de la fonction... On réfléchira bien aux arguments nécessaires à la fonction de pluie._"
   ]
  },
  {
   "cell_type": "code",
   "execution_count": 9,
   "metadata": {},
   "outputs": [
    {
     "data": {
      "text/plain": [
       "0.23369657185652315"
      ]
     },
     "execution_count": 9,
     "metadata": {},
     "output_type": "execute_result"
    }
   ],
   "source": [
    "# La fonction suivante permet de tirer un nombre aléatoire réel dans l'intervalle [0,1]:\n",
    "np.random.random()"
   ]
  },
  {
   "cell_type": "code",
   "execution_count": 124,
   "metadata": {},
   "outputs": [],
   "source": [
    "# Fonction pluie"
   ]
  },
  {
   "cell_type": "code",
   "execution_count": null,
   "metadata": {},
   "outputs": [],
   "source": [
    "# ???"
   ]
  },
  {
   "cell_type": "code",
   "execution_count": 10,
   "metadata": {},
   "outputs": [],
   "source": [
    "# Initialisation\n",
    "\n",
    "\n",
    "\n",
    "# Time integration\n",
    "\n",
    "\n",
    "# Plots\n"
   ]
  },
  {
   "cell_type": "code",
   "execution_count": 11,
   "metadata": {},
   "outputs": [],
   "source": [
    "# Plots sur les 4 derniers jours de la simulation\n"
   ]
  },
  {
   "cell_type": "markdown",
   "metadata": {},
   "source": [
    "## 5. Analyse statistique\n",
    "\n",
    "### Question :\n",
    "Maintenant, il faut rendre compte au ministère : trouver une démarche pour répondre à ces deux questions :\n",
    "\n",
    "* Quelles sont les quantités moyennes de chaque composé dans chaque boîte ?\n",
    "* Pendant combien de jours (en cumulé) dans l'année la masse de $HNO_3$ dans la CLA dépasse le seuil fatidique de 30 ?"
   ]
  },
  {
   "cell_type": "code",
   "execution_count": null,
   "metadata": {},
   "outputs": [],
   "source": []
  }
 ],
 "metadata": {
  "kernelspec": {
   "display_name": "Python 3",
   "language": "python",
   "name": "python3"
  },
  "language_info": {
   "codemirror_mode": {
    "name": "ipython",
    "version": 3
   },
   "file_extension": ".py",
   "mimetype": "text/x-python",
   "name": "python",
   "nbconvert_exporter": "python",
   "pygments_lexer": "ipython3",
   "version": "3.6.6"
  }
 },
 "nbformat": 4,
 "nbformat_minor": 2
}
